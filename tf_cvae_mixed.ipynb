{
  "nbformat": 4,
  "nbformat_minor": 0,
  "metadata": {
    "accelerator": "GPU",
    "colab": {
      "name": "tf_cvae_mixed.ipynb",
      "provenance": [],
      "private_outputs": true,
      "collapsed_sections": [],
      "toc_visible": true,
      "machine_shape": "hm",
      "include_colab_link": true
    },
    "kernelspec": {
      "display_name": "Python 3",
      "name": "python3"
    }
  },
  "cells": [
    {
      "cell_type": "markdown",
      "metadata": {
        "id": "view-in-github",
        "colab_type": "text"
      },
      "source": [
        "<a href=\"https://colab.research.google.com/github/sebastiano-saccani/generative_mixed_types/blob/master/tf_cvae_mixed.ipynb\" target=\"_parent\"><img src=\"https://colab.research.google.com/assets/colab-badge.svg\" alt=\"Open In Colab\"/></a>"
      ]
    },
    {
      "cell_type": "markdown",
      "metadata": {
        "colab_type": "text",
        "id": "Ndo4ERqnwQOU"
      },
      "source": [
        "##### Copyright 2018 The TensorFlow Authors."
      ]
    },
    {
      "cell_type": "code",
      "metadata": {
        "cellView": "both",
        "colab_type": "code",
        "id": "MTKwbguKwT4R",
        "colab": {}
      },
      "source": [
        "#@title Licensed under the Apache License, Version 2.0 (the \"License\");\n",
        "# you may not use this file except in compliance with the License.\n",
        "# You may obtain a copy of the License at\n",
        "#\n",
        "# https://www.apache.org/licenses/LICENSE-2.0\n",
        "#\n",
        "# Unless required by applicable law or agreed to in writing, software\n",
        "# distributed under the License is distributed on an \"AS IS\" BASIS,\n",
        "# WITHOUT WARRANTIES OR CONDITIONS OF ANY KIND, either express or implied.\n",
        "# See the License for the specific language governing permissions and\n",
        "# limitations under the License."
      ],
      "execution_count": 0,
      "outputs": []
    },
    {
      "cell_type": "markdown",
      "metadata": {
        "colab_type": "text",
        "id": "xfNT-mlFwxVM"
      },
      "source": [
        "# Categorical Variational Autoencoder"
      ]
    },
    {
      "cell_type": "markdown",
      "metadata": {
        "colab_type": "text",
        "id": "0TD5ZrvEMbhZ"
      },
      "source": [
        "<table class=\"tfo-notebook-buttons\" align=\"left\">\n",
        "  <td>\n",
        "    <a target=\"_blank\" href=\"https://www.tensorflow.org/beta/tutorials/generative/cvae\">\n",
        "    <img src=\"https://www.tensorflow.org/images/tf_logo_32px.png\" />\n",
        "    View on TensorFlow.org</a>\n",
        "  </td>\n",
        "  <td>\n",
        "    <a target=\"_blank\" href=\"https://colab.research.google.com/github/tensorflow/docs/blob/r2.0rc/site/en/r2/tutorials/generative/cvae.ipynb\">\n",
        "    <img src=\"https://www.tensorflow.org/images/colab_logo_32px.png\" />\n",
        "    Run in Google Colab</a>\n",
        "  </td>\n",
        "  <td>\n",
        "    <a target=\"_blank\" href=\"https://github.com/tensorflow/docs/blob/r2.0rc/site/en/r2/tutorials/generative/cvae.ipynb\">\n",
        "    <img src=\"https://www.tensorflow.org/images/GitHub-Mark-32px.png\" />\n",
        "    View source on GitHub</a>\n",
        "  </td>\n",
        "  <td>\n",
        "    <a href=\"https://storage.googleapis.com/tensorflow_docs/docs/site/en/r2/tutorials/generative/cvae.ipynb\"><img src=\"https://www.tensorflow.org/images/download_logo_32px.png\" />Download notebook</a>\n",
        "  </td>\n",
        "</table>"
      ]
    },
    {
      "cell_type": "markdown",
      "metadata": {
        "colab_type": "text",
        "id": "ITZuApL56Mny"
      },
      "source": [
        "<!-- ![evolution of output during training](https://tensorflow.org/images/autoencoders/cvae.gif) -->\n",
        "\n",
        "This notebook demonstrates how to generate continuous datasets by training a Variational Autoencoder ([1](https://arxiv.org/abs/1312.6114), [2](https://arxiv.org/abs/1401.4082)).\n",
        "\n"
      ]
    },
    {
      "cell_type": "markdown",
      "metadata": {
        "colab_type": "text",
        "id": "e1_Y75QXJS6h"
      },
      "source": [
        "## Import TensorFlow and other libraries"
      ]
    },
    {
      "cell_type": "code",
      "metadata": {
        "colab_type": "code",
        "id": "YfIk2es3hJEd",
        "colab": {}
      },
      "source": [
        "from __future__ import absolute_import, division, print_function, unicode_literals\n",
        "\n",
        "try:\n",
        "  # %tensorflow_version only exists in Colab.\n",
        "  %tensorflow_version 2.x\n",
        "except Exception:\n",
        "  pass\n",
        "import tensorflow as tf\n",
        "\n",
        "import os\n",
        "import time\n",
        "import numpy as np\n",
        "import glob\n",
        "import matplotlib.pyplot as plt\n",
        "import PIL\n",
        "import imageio\n",
        "\n",
        "from IPython import display"
      ],
      "execution_count": 0,
      "outputs": []
    },
    {
      "cell_type": "markdown",
      "metadata": {
        "id": "Z1av-C1FXo3Q",
        "colab_type": "text"
      },
      "source": [
        "# Generating syntetic categorical dataset\n",
        "Importing a categorical dataset"
      ]
    },
    {
      "cell_type": "code",
      "metadata": {
        "id": "4WrSMmzw_upk",
        "colab_type": "code",
        "colab": {}
      },
      "source": [
        "dtypes = {'age':np.float32,\n",
        "'sex':'category',\n",
        "'on thyroxine':'category',\n",
        "'query on thyroxine':'category',\n",
        "'on antithyroid medication':'category',\n",
        "'sick':'category',\n",
        "'pregnant':'category',\n",
        "'thyroid surgery':'category',\n",
        "'I131 treatment':'category',\n",
        "'query hypothyroid':'category',\n",
        "'query hyperthyroid':'category',\n",
        "'lithium':'category',\n",
        "'goitre':'category',\n",
        "'tumor':'category',\n",
        "'hypopituitary':'category',\n",
        "'psych':'category',\n",
        "'TSH measured':'category',\n",
        "'TSH':np.float32,\n",
        "'T3 measured':'category',\n",
        "'T3':np.float32,\n",
        "'TT4 measured':'category',\n",
        "'TT4':np.float32,\n",
        "'T4U measured':'category',\n",
        "'T4U':np.float32,\n",
        "'FTI measured':'category',\n",
        "'FTI':np.float32,\n",
        "'TBG measured':'category',\n",
        "'TBG':np.float32,\n",
        "'target':str,\n",
        "'target1':str\n",
        "}"
      ],
      "execution_count": 0,
      "outputs": []
    },
    {
      "cell_type": "code",
      "metadata": {
        "id": "Ue1YhHDBiLr3",
        "colab_type": "code",
        "colab": {}
      },
      "source": [
        "import pandas as pd\n",
        "data_in=pd.concat([pd.read_csv('http://archive.ics.uci.edu/ml/machine-learning-databases/thyroid-disease/allbp.data',header=None,index_col=None),\n",
        "                   pd.read_csv('http://archive.ics.uci.edu/ml/machine-learning-databases/thyroid-disease/allhyper.data',header=None,index_col=None),\n",
        "                   pd.read_csv('http://archive.ics.uci.edu/ml/machine-learning-databases/thyroid-disease/allhypo.data',header=None,index_col=None),\n",
        "                   pd.read_csv('http://archive.ics.uci.edu/ml/machine-learning-databases/thyroid-disease/allrep.data',header=None,index_col=None)\n",
        "                  ])\n",
        "data_in.columns=dtypes.keys()\n",
        "index = data_in['TSH measured'] != 'f'\n",
        "index = np.logical_and(index,data_in['T3 measured'] != 'f')\n",
        "index = np.logical_and(index,data_in['TT4 measured'] != 'f')\n",
        "index = np.logical_and(index,data_in['T4U measured'] != 'f')\n",
        "index = np.logical_and(index,data_in['FTI measured'] != 'f')\n",
        "data_in = data_in[index]\n",
        "#data_in = data_in[np.logical_not(np.asarray(data_in=='?').any(axis=1))]\n",
        "del data_in['TBG'],data_in['target'],data_in['target1'],data_in['TSH measured'],data_in['T3 measured'],data_in['TT4 measured'],data_in['T4U measured'],data_in['FTI measured'],data_in['TBG measured']\n",
        "data_in = data_in[np.logical_not(np.asarray(data_in=='?').any(axis=1))]\n",
        "data_in = data_in[np.logical_not(np.asarray(data_in[['age']]=='F').any(axis=1))]\n",
        "data_in = data_in.loc[['F' not in i for i in data_in['age']]]\n",
        "data_in = data_in[np.logical_not(data_in.isna().any(axis=1))]"
      ],
      "execution_count": 0,
      "outputs": []
    },
    {
      "cell_type": "code",
      "metadata": {
        "id": "EgB4gX-ADbKh",
        "colab_type": "code",
        "colab": {}
      },
      "source": [
        "dtypes={\n",
        "  'age':np.float64,\n",
        "  'TSH':np.float64,\n",
        "  'T3':np.float64,\n",
        "  'TT4':np.float64,\n",
        "  'T4U':np.float64,\n",
        "  'FTI':np.float64,\n",
        "  'sex':'category',\n",
        "  'on thyroxine':'category',\n",
        "  'query on thyroxine':'category',\n",
        "  'on antithyroid medication':'category',\n",
        "  'sick':'category',\n",
        "  'pregnant':'category',\n",
        "  'thyroid surgery':'category',\n",
        "  'I131 treatment':'category',\n",
        "  'query hypothyroid':'category',\n",
        "  'query hyperthyroid':'category',\n",
        "  'lithium':'category',\n",
        "  'goitre':'category',\n",
        "  'tumor':'category',\n",
        "  'hypopituitary':'category',\n",
        "  'psych':'category',\n",
        "\n",
        "}\n",
        "for key in dtypes.keys():\n",
        "  data_in[key]=data_in[key].astype(dtypes[key])"
      ],
      "execution_count": 0,
      "outputs": []
    },
    {
      "cell_type": "code",
      "metadata": {
        "id": "PIeNzhkgHUZ9",
        "colab_type": "code",
        "colab": {}
      },
      "source": [
        "data_in = data_in.sample(frac=1)\n",
        "data_dummy = pd.get_dummies(data_in)  # One-hot-encoding\n",
        "data_dummy.sample(5)"
      ],
      "execution_count": 0,
      "outputs": []
    },
    {
      "cell_type": "code",
      "metadata": {
        "id": "QMQU-xTuX-Y1",
        "colab_type": "code",
        "colab": {}
      },
      "source": [
        "from sklearn.preprocessing import StandardScaler\n",
        "data_dummy[['age','TSH','T3','TT4','T4U','FTI']] = StandardScaler().fit_transform(data_dummy[['age','TSH','T3','TT4','T4U','FTI']])\n",
        "data_dummy.sample(5)"
      ],
      "execution_count": 0,
      "outputs": []
    },
    {
      "cell_type": "code",
      "metadata": {
        "id": "9rtX1OASIC_1",
        "colab_type": "code",
        "colab": {}
      },
      "source": [
        "# defing group boundary indexes\n",
        "split_list = [[6,'float'],\n",
        "              [2,'cat'],\n",
        "              [2,'cat'],\n",
        "              [2,'cat'],\n",
        "              [2,'cat'],\n",
        "              [2,'cat'],\n",
        "              [2,'cat'],\n",
        "              [2,'cat'],\n",
        "              [2,'cat'],\n",
        "              [2,'cat'],\n",
        "             ]"
      ],
      "execution_count": 0,
      "outputs": []
    },
    {
      "cell_type": "code",
      "metadata": {
        "id": "ICvHYO481jKh",
        "colab_type": "code",
        "colab": {}
      },
      "source": [
        "data_dim = np.sum([i[0] for i in split_list])\n",
        "print(data_dim)\n",
        "print(split_list)"
      ],
      "execution_count": 0,
      "outputs": []
    },
    {
      "cell_type": "code",
      "metadata": {
        "id": "reFbfdsFJbvS",
        "colab_type": "code",
        "colab": {}
      },
      "source": [
        "data_dummy = data_dummy.loc[:,data_dummy.columns[:data_dim]]\n"
      ],
      "execution_count": 0,
      "outputs": []
    },
    {
      "cell_type": "code",
      "metadata": {
        "id": "zEIlnFB-6bkI",
        "colab_type": "code",
        "colab": {}
      },
      "source": [
        "data_dummy=np.asarray(data_dummy)\n",
        "data_dummy.shape"
      ],
      "execution_count": 0,
      "outputs": []
    },
    {
      "cell_type": "code",
      "metadata": {
        "id": "c_ryQx3zGkOV",
        "colab_type": "code",
        "colab": {}
      },
      "source": [
        "plt.imshow(np.cov(data_dummy,rowvar=False))"
      ],
      "execution_count": 0,
      "outputs": []
    },
    {
      "cell_type": "code",
      "metadata": {
        "id": "5MLxWuPPf7th",
        "colab_type": "code",
        "colab": {}
      },
      "source": [
        "train_data = data_dummy[:7000,:]\n",
        "test_data  = data_dummy[7000:,:]"
      ],
      "execution_count": 0,
      "outputs": []
    },
    {
      "cell_type": "code",
      "metadata": {
        "id": "bsFGgdfH3K5E",
        "colab_type": "code",
        "colab": {}
      },
      "source": [
        "train_data = train_data.reshape(train_data.shape[0], train_data.shape[1]).astype('float32')\n",
        "test_data = test_data.reshape(test_data.shape[0], test_data.shape[1]).astype('float32')"
      ],
      "execution_count": 0,
      "outputs": []
    },
    {
      "cell_type": "code",
      "metadata": {
        "colab_type": "code",
        "id": "S4PIDhoDLbsZ",
        "colab": {}
      },
      "source": [
        "TRAIN_BUF = 500\n",
        "BATCH_SIZE = 100\n",
        "\n",
        "TEST_BUF = 500"
      ],
      "execution_count": 0,
      "outputs": []
    },
    {
      "cell_type": "markdown",
      "metadata": {
        "colab_type": "text",
        "id": "PIGN6ouoQxt3"
      },
      "source": [
        "[link text](https://)## Use *tf.data* to create batches and shuffle the dataset"
      ]
    },
    {
      "cell_type": "code",
      "metadata": {
        "colab_type": "code",
        "id": "-yKCCQOoJ7cn",
        "colab": {}
      },
      "source": [
        "train_dataset = tf.data.Dataset.from_tensor_slices(train_data).shuffle(TRAIN_BUF).batch(BATCH_SIZE)\n",
        "test_dataset = tf.data.Dataset.from_tensor_slices(test_data).shuffle(TEST_BUF).batch(BATCH_SIZE)"
      ],
      "execution_count": 0,
      "outputs": []
    },
    {
      "cell_type": "markdown",
      "metadata": {
        "colab_type": "text",
        "id": "THY-sZMiQ4UV"
      },
      "source": [
        "## Wire up the generative and inference network with *tf.keras.Sequential*\n",
        "\n",
        "In our VAE example, we use two small ConvNets for the generative and inference network. Since these neural nets are small, we use `tf.keras.Sequential` to simplify our code. Let $x$ and $z$ denote the observation and latent variable respectively in the following descriptions.\n",
        "\n",
        "### Generative Network\n",
        "This defines the generative model which takes a latent encoding as input, and outputs the parameters for a conditional distribution of the observation, i.e. $p(x|z)$. Additionally, we use a unit Gaussian prior $p(z)$ for the latent variable.\n",
        "\n",
        "### Inference Network\n",
        "This defines an approximate posterior distribution $q(z|x)$, which takes as input an observation and outputs a set of parameters for the conditional distribution of the latent representation. In this example, we simply model this distribution as a diagonal Gaussian. In this case, the inference network outputs the mean and log-variance parameters of a factorized Gaussian (log-variance instead of the variance directly is for numerical stability).\n",
        "\n",
        "### Reparameterization Trick\n",
        "During optimization, we can sample from $q(z|x)$ by first sampling from a unit Gaussian, and then multiplying by the standard deviation and adding the mean. This ensures the gradients could pass through the sample to the inference network parameters.\n",
        "\n",
        "### Network architecture\n",
        "For the inference network, we use two convolutional layers followed by a fully-connected layer. In the generative network, we mirror this architecture by using a fully-connected layer followed by three convolution transpose layers (a.k.a. deconvolutional layers in some contexts). Note, it's common practice to avoid using batch normalization when training VAEs, since the additional stochasticity due to using mini-batches may aggravate instability on top of the stochasticity from sampling."
      ]
    },
    {
      "cell_type": "code",
      "metadata": {
        "id": "3YbIQScxtMH1",
        "colab_type": "code",
        "colab": {}
      },
      "source": [
        "class onehot2embedded(tf.keras.Model):\n",
        "  def __init__(self, input_features, output_features, name=None):\n",
        "    super(onehot2embedded, self).__init__(name=name)\n",
        "    self.w = tf.Variable(\n",
        "       tf.random.normal([input_features, output_features]), name='w',trainable=True)\n",
        "    self.w1 = tf.Variable(\n",
        "       tf.random.normal([output_features,input_features]), name='w1')\n",
        "   \n",
        "  def forward(self, x):\n",
        "    return tf.matmul(x, self.w)\n",
        "\n",
        "  def backward(self, x):\n",
        "    return tf.matmul(x, self.w1)"
      ],
      "execution_count": 0,
      "outputs": []
    },
    {
      "cell_type": "code",
      "metadata": {
        "id": "oAxb5VVO3kLP",
        "colab_type": "code",
        "colab": {}
      },
      "source": [
        "class CVAE(tf.keras.Model):\n",
        "  def __init__(self, input_d, latent_dim,splits_in):\n",
        "    super(CVAE, self).__init__()\n",
        "    self.latent_dim = latent_dim\n",
        "    self.splits = np.asarray([i[0] for i in splits_in])\n",
        "    self.splits_out = self.splits.copy()\n",
        "    self.split_types = [i[1] for i in splits_in]\n",
        "    \n",
        "    for i in range(0,len(self.splits)):\n",
        "      if self.split_types[i]=='cat':\n",
        "        self.splits_out[i] = np.min([50,int(np.ceil(self.splits[i]/2.0+0.0001))])\n",
        "    \n",
        "    self.input_dim = input_d - (self.splits.sum() - self.splits_out.sum())\n",
        "      \n",
        "    self.d = [None] * 10\n",
        "    for i in range(0,len(self.splits)):\n",
        "      if self.split_types[i]=='cat':\n",
        "        self.d[i] = onehot2embedded(input_features=self.splits[i], output_features=self.splits_out[i])\n",
        "    self.inference_net = tf.keras.Sequential(\n",
        "      [\n",
        "          tf.keras.layers.InputLayer(input_shape=(self.input_dim,),name='input_layer'),\n",
        "          tf.keras.layers.Dense(self.input_dim, activation='relu'),\n",
        "          tf.keras.layers.Dense(np.ceil((self.input_dim+latent_dim)/2), activation='relu'),\n",
        "          tf.keras.layers.Dense(latent_dim + latent_dim, activation='linear'),\n",
        "      ]\n",
        "    )\n",
        "\n",
        "    self.generative_net = tf.keras.Sequential(\n",
        "        [\n",
        "          tf.keras.layers.InputLayer(input_shape=(latent_dim,)),\n",
        "          tf.keras.layers.Dense(np.ceil((self.input_dim+latent_dim)/2), activation='relu'),\n",
        "          tf.keras.layers.Dense(self.input_dim, activation='relu'),\n",
        "          tf.keras.layers.Dense(self.input_dim, activation='linear',name='output_layer')\n",
        "        ]\n",
        "    )\n",
        "\n",
        "    \n",
        "  @tf.function\n",
        "  def sample(self, eps=None):\n",
        "    if eps is None:\n",
        "      eps = tf.random.normal(shape=(100, self.latent_dim))\n",
        "    else:\n",
        "      eps = self.decode(eps)\n",
        "    split_list = tf.split(eps, num_or_size_splits=self.splits, axis=1)\n",
        "    for idx in range(len(split_list)):\n",
        "      if self.split_types[idx]=='cat':\n",
        "        split_list[idx] = tf.nn.softmax(split_list[idx])\n",
        "        split_list[idx] = tf.one_hot(tf.argmax(split_list[idx],axis=1),depth=split_list[idx].shape[1])\n",
        "    eps = tf.concat(split_list, axis=1)\n",
        "    return eps\n",
        "  \n",
        "  @tf.function\n",
        "  def encode(self, x):\n",
        "    split_list = tf.split(x, num_or_size_splits=self.splits, axis=1)\n",
        "    for i in range(0,len(split_list)):\n",
        "      if self.split_types[i]=='cat':\n",
        "        split_list[i] = self.d[i].forward(split_list[i])\n",
        "    x = tf.concat(split_list, axis=1)\n",
        "    mean, logvar = tf.split(self.inference_net(x), num_or_size_splits=2, axis=1)\n",
        "    return mean, logvar\n",
        "\n",
        "  def reparameterize(self, mean, logvar):\n",
        "    eps = tf.random.normal(shape=mean.shape)\n",
        "    return eps * tf.exp(logvar * .5) + mean\n",
        "  \n",
        "  @tf.function\n",
        "  def decode(self, z):\n",
        "    logits = self.generative_net(z)\n",
        "    split_list = tf.split(logits, num_or_size_splits=self.splits_out, axis=1)\n",
        "    for i in range(0,len(split_list)):\n",
        "      if self.split_types[i]=='cat':\n",
        "        split_list[i] = self.d[i].backward(split_list[i])\n",
        "    logits = tf.concat(split_list, axis=1)\n",
        "\n",
        "    return logits"
      ],
      "execution_count": 0,
      "outputs": []
    },
    {
      "cell_type": "code",
      "metadata": {
        "id": "rJuV8WPmsIPs",
        "colab_type": "code",
        "colab": {}
      },
      "source": [
        "epochs = 100\n",
        "latent_dim = 10\n",
        "num_examples_to_generate = 200\n",
        "\n",
        "# keeping the random vector constant for generation (prediction) so\n",
        "# it will be easier to see the improvement.\n",
        "random_vector_for_generation = tf.random.normal(\n",
        "    shape=[num_examples_to_generate,latent_dim])\n",
        "model = CVAE(data_dim,latent_dim,split_list)"
      ],
      "execution_count": 0,
      "outputs": []
    },
    {
      "cell_type": "code",
      "metadata": {
        "id": "-7YLh6B5sHRd",
        "colab_type": "code",
        "colab": {}
      },
      "source": [
        "len(model.trainable_variables)"
      ],
      "execution_count": 0,
      "outputs": []
    },
    {
      "cell_type": "markdown",
      "metadata": {
        "colab_type": "text",
        "id": "0FMYgY_mPfTi"
      },
      "source": [
        "## Define the loss function and the optimizer\n",
        "\n",
        "VAEs train by maximizing the evidence lower bound (ELBO) on the marginal log-likelihood:\n",
        "\n",
        "$$\\log p(x) \\ge \\text{ELBO} = \\mathbb{E}_{q(z|x)}\\left[\\log \\frac{p(x, z)}{q(z|x)}\\right].$$\n",
        "\n",
        "In practice, we optimize the single sample Monte Carlo estimate of this expectation:\n",
        "\n",
        "$$\\log p(x| z) + \\log p(z) - \\log q(z|x),$$\n",
        "where $z$ is sampled from $q(z|x)$.\n",
        "\n",
        "**Note**: we could also analytically compute the KL term, but here we incorporate all three terms in the Monte Carlo estimator for simplicity."
      ]
    },
    {
      "cell_type": "code",
      "metadata": {
        "colab_type": "code",
        "id": "iWCn_PVdEJZ7",
        "colab": {}
      },
      "source": [
        "optimizer = tf.keras.optimizers.Adam(1e-4)\n",
        "\n",
        "def log_normal_pdf(sample, mean, logvar, raxis=1):\n",
        "  log2pi = tf.math.log(2. * np.pi)\n",
        "  return tf.reduce_sum(\n",
        "      -.5 * ((sample - mean) ** 2. * tf.exp(-logvar) + logvar + log2pi),\n",
        "      axis=raxis)\n",
        "\n",
        "@tf.function\n",
        "def compute_loss(model, x, splits_in):\n",
        "  splits = np.asarray([i[0] for i in splits_in])\n",
        "  split_types = [i[1] for i in splits_in]\n",
        "  mean, logvar = model.encode(x)\n",
        "  z = model.reparameterize(mean, logvar)\n",
        "  x_logit = model.decode(z)\n",
        "    \n",
        "  split_list = tf.split(x_logit, num_or_size_splits=splits, axis=1)\n",
        "  x_split = tf.split(x, num_or_size_splits=splits, axis=1)\n",
        "  logpx_z = 0\n",
        "  for i in range(0,len(split_list)):\n",
        "    if split_types[i]=='cat':\n",
        "      cross_ent = tf.nn.sigmoid_cross_entropy_with_logits(logits=split_list[i], labels=x_split[i])\n",
        "      logpx_z = logpx_z -tf.reduce_sum(cross_ent, axis=[1])\n",
        "    else:\n",
        "      logpx_z = logpx_z -tf.reduce_sum(tf.compat.v1.keras.losses.MAE(split_list[i],x_split[i]))\n",
        "  \n",
        "  logpz = log_normal_pdf(z, 0., 0.)\n",
        "  logqz_x = log_normal_pdf(z, mean, logvar)\n",
        "  return -tf.reduce_mean(logpx_z + logpz - logqz_x)\n",
        "\n",
        "@tf.function\n",
        "def compute_apply_gradients(model, x, splits_in, optimizer):\n",
        "  with tf.GradientTape() as tape:\n",
        "    loss = compute_loss(model, x, splits_in)\n",
        "  gradients = tape.gradient(loss, model.trainable_variables)\n",
        "  optimizer.apply_gradients(zip(gradients, model.trainable_variables))"
      ],
      "execution_count": 0,
      "outputs": []
    },
    {
      "cell_type": "markdown",
      "metadata": {
        "colab_type": "text",
        "id": "Rw1fkAczTQYh"
      },
      "source": [
        "## Training\n",
        "\n",
        "* We start by iterating over the dataset\n",
        "* During each iteration, we pass the sample to the encoder to obtain a set of mean and log-variance parameters of the approximate posterior $q(z|x)$\n",
        "* We then apply the *reparameterization trick* to sample from $q(z|x)$\n",
        "* Finally, we pass the reparameterized samples to the decoder to obtain the logits of the generative distribution $p(x|z)$\n",
        "* **Note:** Since we use the dataset loaded by keras with 60k datapoints in the training set and 10k datapoints in the test set, our resulting ELBO on the test set is slightly higher than reported results in the literature which uses dynamic binarization of Larochelle's MNIST.\n",
        "\n",
        "## Generate Samples\n",
        "\n",
        "* After training, it is time to generate some samples\n",
        "* We start by sampling a set of latent vectors from the unit Gaussian prior distribution $p(z)$\n",
        "* The generator will then convert the latent sample $z$ to logits of the observation, giving a distribution $p(x|z)$\n",
        "* Here we plot the probabilities of Bernoulli distributions\n"
      ]
    },
    {
      "cell_type": "code",
      "metadata": {
        "colab_type": "code",
        "id": "NS2GWywBbAWo",
        "colab": {}
      },
      "source": [
        "epochs = 600\n",
        "latent_dim = 6\n",
        "num_examples_to_generate = 200\n",
        "\n",
        "# keeping the random vector constant for generation (prediction) so\n",
        "# it will be easier to see the improvement.\n",
        "random_vector_for_generation = tf.random.normal(\n",
        "    shape=[num_examples_to_generate,latent_dim])\n",
        "model = CVAE(data_dim,latent_dim,split_list)"
      ],
      "execution_count": 0,
      "outputs": []
    },
    {
      "cell_type": "code",
      "metadata": {
        "colab_type": "code",
        "id": "RmdVsmvhPxyy",
        "colab": {}
      },
      "source": [
        "def generate_and_save_images(model, test_input,train_data):\n",
        "  predictions = model.sample(test_input)\n",
        "  #print(predictions)\n",
        "  fig = plt.figure(figsize=[10,10])\n",
        "  plt.subplot(2, 2, 1)\n",
        "  plt.bar(range(train_data.shape[1]),np.mean(train_data,axis=0))\n",
        "  plt.xlim([0,train_data.shape[1]])\n",
        "  plt.title('data: average')\n",
        "  plt.subplot(2, 2, 2)\n",
        "  plt.bar(range(predictions.shape[1]),np.mean(predictions,axis=0))\n",
        "  plt.xlim([0,predictions.shape[1]])\n",
        "  plt.title('generated: average')\n",
        "  plt.subplot(2, 2, 3)\n",
        "  plt.imshow(np.cov(train_data,rowvar=False))\n",
        "  plt.xlim([0,train_data.shape[1]])\n",
        "  plt.ylim([train_data.shape[1],0])\n",
        "  plt.title('data: covariance')\n",
        "  plt.subplot(2, 2, 4)\n",
        "  plt.imshow(np.cov(predictions,rowvar=False))\n",
        "  plt.xlim([0,predictions.shape[1]])\n",
        "  plt.ylim([predictions.shape[1],0])\n",
        "  plt.title('generated: covariance')\n",
        "\n",
        "  plt.show()"
      ],
      "execution_count": 0,
      "outputs": []
    },
    {
      "cell_type": "code",
      "metadata": {
        "colab_type": "code",
        "id": "K6wSm-qQ9e4V",
        "colab": {}
      },
      "source": [
        "generate_and_save_images(model, random_vector_for_generation,train_data)\n",
        "for epoch in range(1, epochs + 1):\n",
        "  start_time = time.time()\n",
        "  for train_x in train_dataset:\n",
        "    compute_apply_gradients(model, train_x, split_list, optimizer)\n",
        "  end_time = time.time()\n",
        "\n",
        "  if epoch % 10 == 0:\n",
        "    loss = tf.keras.metrics.Mean()\n",
        "    for test_x in test_dataset:\n",
        "      loss(compute_loss(model, test_x, split_list))\n",
        "    elbo = -loss.result()\n",
        "    display.clear_output(wait=False)\n",
        "    #print(model.d[1].w)\n",
        "    print('Epoch: {}, Test set ELBO: {}, '\n",
        "          'time elapse for current epoch {}'.format(epoch,\n",
        "                                                    elbo,\n",
        "                                                    end_time - start_time))\n",
        "    generate_and_save_images(model, random_vector_for_generation,train_data)"
      ],
      "execution_count": 0,
      "outputs": []
    },
    {
      "cell_type": "code",
      "metadata": {
        "id": "p9VNMLoJr8f2",
        "colab_type": "code",
        "colab": {}
      },
      "source": [
        "num_examples_to_generate = 1000\n",
        "random_vector_for_generation = tf.random.normal(\n",
        "    shape=[num_examples_to_generate,latent_dim])\n",
        "gen_data = model.sample(random_vector_for_generation)"
      ],
      "execution_count": 0,
      "outputs": []
    },
    {
      "cell_type": "code",
      "metadata": {
        "id": "CfImIDZZZhHx",
        "colab_type": "code",
        "colab": {}
      },
      "source": [
        "from sklearn.decomposition import PCA\n",
        "pca = PCA(n_components=np.min([50,int(np.ceil(test_data.shape[1]/2.0))]))\n",
        "pca.fit(test_data[:num_examples_to_generate])\n",
        "X_embedded = pca.transform(test_data[:num_examples_to_generate])\n",
        "gen_data = pca.transform(gen_data)"
      ],
      "execution_count": 0,
      "outputs": []
    },
    {
      "cell_type": "code",
      "metadata": {
        "id": "gtLHlekGcv0K",
        "colab_type": "code",
        "colab": {}
      },
      "source": [
        "np.concatenate([X_embedded,gen_data]).shape"
      ],
      "execution_count": 0,
      "outputs": []
    },
    {
      "cell_type": "code",
      "metadata": {
        "id": "taAj5hUoZXuX",
        "colab_type": "code",
        "colab": {}
      },
      "source": [
        "from sklearn.manifold import TSNE\n",
        "tsne_istance = TSNE(n_components=2)\n",
        "X_out = tsne_istance.fit_transform(np.concatenate([X_embedded,gen_data]))"
      ],
      "execution_count": 0,
      "outputs": []
    },
    {
      "cell_type": "code",
      "metadata": {
        "id": "KEXZOc8-ZnWZ",
        "colab_type": "code",
        "colab": {}
      },
      "source": [
        "plt.figure(figsize=[10,7])\n",
        "plt.scatter(X_out[:num_examples_to_generate,0],X_out[:num_examples_to_generate,1],c='#E0884B',label='Original data',alpha=0.5)\n",
        "plt.scatter(X_out[num_examples_to_generate:,0],X_out[num_examples_to_generate:,1],c='#0080F1',label='Synthetic data',alpha=0.5)\n",
        "plt.xticks([])\n",
        "plt.yticks([])\n",
        "plt.xlabel('t-SNE dim 1')\n",
        "plt.ylabel('t-SNE dim 2')\n",
        "plt.legend()"
      ],
      "execution_count": 0,
      "outputs": []
    },
    {
      "cell_type": "code",
      "metadata": {
        "id": "9FIZ3CpDdBYU",
        "colab_type": "code",
        "colab": {}
      },
      "source": [
        ""
      ],
      "execution_count": 0,
      "outputs": []
    }
  ]
}